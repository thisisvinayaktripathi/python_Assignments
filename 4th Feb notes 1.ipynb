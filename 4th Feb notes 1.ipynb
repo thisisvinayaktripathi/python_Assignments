{
 "cells": [
  {
   "cell_type": "code",
   "execution_count": 1,
   "metadata": {},
   "outputs": [
    {
     "name": "stdout",
     "output_type": "stream",
     "text": [
      "[1, 4, 9, 16, 25]\n"
     ]
    }
   ],
   "source": [
    "numbers = [1, 2, 3, 4, 5]\n",
    "squared = list(map(lambda x: x**2, numbers))\n",
    "print(squared)"
   ]
  },
  {
   "cell_type": "code",
   "execution_count": 10,
   "metadata": {},
   "outputs": [
    {
     "name": "stdout",
     "output_type": "stream",
     "text": [
      "1\n",
      "4\n",
      "9\n",
      "16\n",
      "25\n",
      "Bhai, limit mei reh\n",
      "\n",
      "Hogya khatam code\n"
     ]
    }
   ],
   "source": [
    "numbers1 = [1, 2, 3, 4, 5]\n",
    "squared1 = map(lambda x: x**2, numbers1)\n",
    "try:\n",
    "    for i in range (6):\n",
    "        print(next(squared1))\n",
    "\n",
    "except StopIteration: print('Bhai, limit mei reh')\n",
    "except: print('yea to print hoga nahi')\n",
    "else: print('\\nExecution successful without errors')\n",
    "finally: print('\\nHogya khatam code')"
   ]
  },
  {
   "attachments": {},
   "cell_type": "markdown",
   "metadata": {},
   "source": [
    "#### I am trying to write a function below where i will pass centegrate value and if the output value falls in human body temp range then the function returns me the cent value."
   ]
  },
  {
   "cell_type": "code",
   "execution_count": 13,
   "metadata": {},
   "outputs": [
    {
     "name": "stdout",
     "output_type": "stream",
     "text": [
      "36\n"
     ]
    }
   ],
   "source": [
    "# normal body temp in farenheit\n",
    "normal = lambda x: x>95 and x<103\n",
    "ctof = lambda x : (9/5)*x + 32\n",
    "for i in range(30,50):\n",
    "    if normal(ctof(i)):\n",
    "        print(i)\n",
    "        break\n",
    "else:print('nahi mila')\n",
    "    "
   ]
  },
  {
   "cell_type": "code",
   "execution_count": null,
   "metadata": {},
   "outputs": [],
   "source": []
  }
 ],
 "metadata": {
  "kernelspec": {
   "display_name": "base",
   "language": "python",
   "name": "python3"
  },
  "language_info": {
   "codemirror_mode": {
    "name": "ipython",
    "version": 3
   },
   "file_extension": ".py",
   "mimetype": "text/x-python",
   "name": "python",
   "nbconvert_exporter": "python",
   "pygments_lexer": "ipython3",
   "version": "3.9.13"
  },
  "orig_nbformat": 4,
  "vscode": {
   "interpreter": {
    "hash": "ad2bdc8ecc057115af97d19610ffacc2b4e99fae6737bb82f5d7fb13d2f2c186"
   }
  }
 },
 "nbformat": 4,
 "nbformat_minor": 2
}
