{
 "cells": [
  {
   "cell_type": "markdown",
   "id": "d916c1b0",
   "metadata": {},
   "source": [
    "## Q1. Explain with an example each when to use a for loop and a while loop."
   ]
  },
  {
   "cell_type": "markdown",
   "id": "7f30b4c5",
   "metadata": {},
   "source": [
    "### Answer:"
   ]
  },
  {
   "cell_type": "markdown",
   "id": "eea5447a",
   "metadata": {},
   "source": [
    "One main difference is while loops are best suited when you do not know ahead of time the number of iterations that you need to do. When you know this before entering the loop you can use for loop."
   ]
  },
  {
   "cell_type": "markdown",
   "id": "2e5e6ebd",
   "metadata": {},
   "source": [
    "Some key examples when to use while loop vs for loop are :\n",
    "\n",
    "**For loop**\n",
    "\n",
    "- Use a for loop to iterate over an array.\n",
    "- Use a for loop when you know the loop should execute *n* times.\n",
    "\n",
    "**While loop**\n",
    "\n",
    "- Use a while loop for reading a file into a variable.\n",
    "- Use a while loop when asking for user input.\n",
    "- Use a while loop when the increment value is nonstandard."
   ]
  },
  {
   "cell_type": "markdown",
   "id": "e341aa91",
   "metadata": {},
   "source": [
    "---"
   ]
  },
  {
   "cell_type": "markdown",
   "id": "ec291091",
   "metadata": {},
   "source": [
    "## Q2. Write a python program to print the sum and product of the first 10 natural numbers using for and while loop."
   ]
  },
  {
   "cell_type": "markdown",
   "id": "4aca9855",
   "metadata": {},
   "source": [
    "### Answer:"
   ]
  },
  {
   "cell_type": "code",
   "execution_count": 6,
   "id": "aa55906e",
   "metadata": {},
   "outputs": [
    {
     "name": "stdout",
     "output_type": "stream",
     "text": [
      "for loop:\n",
      " sum:  55 product:  3628800\n",
      "while loop:\n",
      " sum:  55 product:  3628800\n"
     ]
    }
   ],
   "source": [
    "# Using for loop\n",
    "sum = 0\n",
    "pro = 1\n",
    "for i in range(1,11):\n",
    "    sum += i\n",
    "    pro *= i\n",
    "print('for loop:\\n','sum: ',sum,'product: ',pro)\n",
    "\n",
    "# Using while loop\n",
    "sum = 0\n",
    "pro = 1\n",
    "i = 1\n",
    "while i <= 10:\n",
    "    sum += i\n",
    "    pro *= i\n",
    "    i += 1\n",
    "print('while loop:\\n','sum: ',sum,'product: ',pro)"
   ]
  },
  {
   "cell_type": "markdown",
   "id": "0f1b374d",
   "metadata": {},
   "source": [
    "---"
   ]
  },
  {
   "cell_type": "markdown",
   "id": "bff70fac",
   "metadata": {},
   "source": [
    "## Q3. Create a python program to compute the electricity bill for a household.\n",
    "\n",
    "The per-unit charges in rupees are as follows: For the first 100 units, the user will be charged Rs. 4.5 per\n",
    "unit, for the next 100 units, the user will be charged Rs. 6 per unit, and for the next 100 units, the user will\n",
    "be charged Rs. 10 per unit, After 300 units and above the user will be charged Rs. 20 per unit."
   ]
  },
  {
   "cell_type": "markdown",
   "id": "49150c53",
   "metadata": {},
   "source": [
    "### Answer:"
   ]
  },
  {
   "cell_type": "code",
   "execution_count": 11,
   "id": "5bb67d29",
   "metadata": {},
   "outputs": [
    {
     "name": "stdout",
     "output_type": "stream",
     "text": [
      "Enter your monthly electricity consumption-units  310\n",
      "2250.0\n"
     ]
    }
   ],
   "source": [
    "units = int(input(\"Enter your monthly electricity consumption-units  \"))\n",
    "bill = 0\n",
    "if units >= 0:\n",
    "    if units > 300:\n",
    "        bill += 100*4.5 + 100*6 + 100*10\n",
    "        bill += (units-300)*20\n",
    "        \n",
    "    elif units > 200:\n",
    "        bill += 100*4.5 + 100*6\n",
    "        bill += (units-200)*10\n",
    "        \n",
    "    elif units > 100:\n",
    "        bill += 100*4.5\n",
    "        bill += (units-100)*6\n",
    "    \n",
    "    elif units >= 0:\n",
    "        bill += units*6\n",
    "        \n",
    "else: print(\"Did you generate electricity ?\")\n",
    "print(bill)"
   ]
  },
  {
   "cell_type": "markdown",
   "id": "a24900b9",
   "metadata": {},
   "source": [
    "---"
   ]
  },
  {
   "cell_type": "markdown",
   "id": "73d95bba",
   "metadata": {},
   "source": [
    "## Q4. Create a list of numbers from 1 to 100. Use for loop and while loop to calculate the cube of each number and if the cube of that number is divisible by 4 or 5 then append that number in a list and print that list."
   ]
  },
  {
   "cell_type": "markdown",
   "id": "a188f58f",
   "metadata": {},
   "source": [
    "### Answer:"
   ]
  },
  {
   "cell_type": "code",
   "execution_count": 28,
   "id": "94a07f5b",
   "metadata": {},
   "outputs": [
    {
     "name": "stdout",
     "output_type": "stream",
     "text": [
      "[8, 64, 125, 216, 512]\n",
      "[8, 64, 125, 216, 512]\n"
     ]
    }
   ],
   "source": [
    "# List comprehension\n",
    "l_cube = [i**3 for i in list(range(1,10)) if (i**3)%4==0 or (i**3)%5==0]\n",
    "print(l_cube)\n",
    "\n",
    "# for loop\n",
    "list_for = list(range(1,10))\n",
    "l = []\n",
    "for i in list_for:\n",
    "    if i**3%4==0 or i**3%5==0:\n",
    "        l.append(i**3)\n",
    "print(l)"
   ]
  },
  {
   "cell_type": "markdown",
   "id": "229609f4",
   "metadata": {},
   "source": [
    "---"
   ]
  },
  {
   "cell_type": "markdown",
   "id": "3ff9b827",
   "metadata": {},
   "source": [
    "## Q5. Write a program to filter count vowels in the below-given string.\n",
    "## string = \"I want to become a data scientist”"
   ]
  },
  {
   "cell_type": "code",
   "execution_count": 46,
   "id": "212b165a",
   "metadata": {},
   "outputs": [
    {
     "name": "stdout",
     "output_type": "stream",
     "text": [
      "11\n",
      "I wnt t bcm  dt scntst\n"
     ]
    }
   ],
   "source": [
    "string = \"I want to become a data scientist\"\n",
    "\n",
    "# Count vowels\n",
    "count = 0\n",
    "for i in string:\n",
    "    if i in 'aeiou':\n",
    "        count += 1\n",
    "print(count)\n",
    "\n",
    "# Filter out all vowels\n",
    "for i in string:\n",
    "    if i in 'aeiou':\n",
    "        string = string.replace(i,'')\n",
    "print(string)"
   ]
  }
 ],
 "metadata": {
  "kernelspec": {
   "display_name": "Python 3 (ipykernel)",
   "language": "python",
   "name": "python3"
  },
  "language_info": {
   "codemirror_mode": {
    "name": "ipython",
    "version": 3
   },
   "file_extension": ".py",
   "mimetype": "text/x-python",
   "name": "python",
   "nbconvert_exporter": "python",
   "pygments_lexer": "ipython3",
   "version": "3.9.13"
  }
 },
 "nbformat": 4,
 "nbformat_minor": 5
}
