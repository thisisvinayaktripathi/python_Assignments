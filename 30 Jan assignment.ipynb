{
 "cells": [
  {
   "cell_type": "code",
   "execution_count": 90,
   "id": "667c878f",
   "metadata": {},
   "outputs": [
    {
     "name": "stdout",
     "output_type": "stream",
     "text": [
      "Enter your percentage 80\n",
      "\n",
      "You belong to grade C\n"
     ]
    }
   ],
   "source": [
    "u_per = int(input(\"Enter your percentage \"))\n",
    "\n",
    "if u_per > 100:\n",
    "    print(\"\\nAre you Einstein !!?\")\n",
    "    \n",
    "# Grade A condition\n",
    "elif u_per > 90:\n",
    "    print(\"\\nYou belong to grade A\")\n",
    "    \n",
    "# Grade B condition\n",
    "elif u_per > 80:\n",
    "    print(\"\\nYou belong to grade B\")\n",
    "    \n",
    "# Grade C condition\n",
    "elif u_per > 60:\n",
    "    print(\"\\nYou belong to grade C\")\n",
    "    \n",
    "# Grade D condition\n",
    "elif u_per >= 0:\n",
    "    print(\"\\nYou belong to grade D\\nStay motivated and you will improve\")\n",
    "    \n",
    "else: print(\"\\nAre you really that bad in studies ?\")"
   ]
  },
  {
   "cell_type": "code",
   "execution_count": 91,
   "id": "93a1ad4c",
   "metadata": {},
   "outputs": [
    {
     "name": "stdout",
     "output_type": "stream",
     "text": [
      "Enter cost of bike: 40000\n",
      "\n",
      "Your Road Tax is:  2000.0\n"
     ]
    }
   ],
   "source": [
    "cost = int(input(\"Enter cost of bike: \"))\n",
    "\n",
    "if cost > 100000:\n",
    "    print(\"\\nYour Road Tax is: \", cost*.15)\n",
    "    \n",
    "elif cost > 50000:\n",
    "    print(\"\\nYour Road Tax is: \", cost*.10)\n",
    "    \n",
    "elif cost >= 0:\n",
    "    print(\"\\nYour Road Tax is: \", cost*.05)\n",
    "    \n",
    "else: print(\"\\nSo you got paid to buy a bike ??O_O!\")"
   ]
  },
  {
   "cell_type": "code",
   "execution_count": 104,
   "id": "6539b605",
   "metadata": {},
   "outputs": [
    {
     "name": "stdout",
     "output_type": "stream",
     "text": [
      "Enter: 'Delhi', 'Agra' or 'Jaipur': agra\n",
      "You should visit: Taj Mahal\n"
     ]
    }
   ],
   "source": [
    "city = input(\"Enter: 'Delhi', 'Agra' or 'Jaipur': \")\n",
    "\n",
    "if city == 'Delhi' or city == 'delhi' or city == 'D' or city == 'd':\n",
    "    print(\"You should visit: Red Fort\")\n",
    "    \n",
    "elif city == 'Agra' or city == 'agra' or city == 'A' or city == 'a':\n",
    "    print(\"You should visit: Taj Mahal\")\n",
    "    \n",
    "elif city == 'Jaipur' or city == 'jaipur' or city == 'J' or city == 'j':\n",
    "    print(\"You should visit: Jal Mahal\")\n",
    "    \n",
    "else: print(\"Unknown city\")"
   ]
  },
  {
   "cell_type": "code",
   "execution_count": 103,
   "id": "cdac30aa",
   "metadata": {},
   "outputs": [
    {
     "name": "stdout",
     "output_type": "stream",
     "text": [
      "Enter any number: 500\n",
      "500  can be divided  4  times before it becomes less than 10\n"
     ]
    }
   ],
   "source": [
    "num = int(input(\"Enter any number: \"))\n",
    "num1 = num\n",
    "i = 0\n",
    "if num > 10:\n",
    "    while num > 10:\n",
    "        num /= 3\n",
    "        i += 1\n",
    "    print(num1, \" can be divided \", i, \" times before it becomes less than 10\")\n",
    "\n",
    "else: print(\"Please enter number greater than 10\")"
   ]
  },
  {
   "cell_type": "code",
   "execution_count": 112,
   "id": "63bc84e8",
   "metadata": {},
   "outputs": [
    {
     "name": "stdout",
     "output_type": "stream",
     "text": [
      "Enter range for pattern:  5\n",
      "\n",
      "Pattern 1: \n",
      "1 \n",
      "1 2 \n",
      "1 2 3 \n",
      "1 2 3 4 \n",
      "1 2 3 4 5 \n",
      "\n",
      "Pattern 2: \n",
      "     *\n",
      "    * *\n",
      "   * * *\n",
      "  * * * *\n",
      " * * * * *\n"
     ]
    }
   ],
   "source": [
    "num = int(input(\"Enter range for pattern:  \"))\n",
    "\n",
    "print('\\nPattern 1: ')\n",
    "i=1\n",
    "while i<=num:\n",
    "    j=1\n",
    "    while j<=i:\n",
    "        print(j, end=' ')\n",
    "        j += 1\n",
    "    print(\"\")\n",
    "    i += 1\n",
    "\n",
    "#star pattern\n",
    "print('\\nPattern 2: ')\n",
    "i=1\n",
    "while i<=num:\n",
    "    print(\" \"*(num-i),'*', end='')\n",
    "    j=1\n",
    "    while j<i:\n",
    "        print(' *', end='')\n",
    "        j += 1\n",
    "    i += 1\n",
    "    print('')"
   ]
  },
  {
   "cell_type": "code",
   "execution_count": 114,
   "id": "9b917059",
   "metadata": {},
   "outputs": [
    {
     "name": "stdout",
     "output_type": "stream",
     "text": [
      "10\n",
      "9\n",
      "8\n",
      "7\n",
      "6\n",
      "5\n",
      "4\n",
      "3\n",
      "2\n",
      "1\n"
     ]
    }
   ],
   "source": [
    "num = 10\n",
    "\n",
    "while num > 0:\n",
    "    print(num)\n",
    "    num -= 1"
   ]
  },
  {
   "cell_type": "code",
   "execution_count": null,
   "id": "65527313",
   "metadata": {},
   "outputs": [],
   "source": []
  }
 ],
 "metadata": {
  "kernelspec": {
   "display_name": "Python 3 (ipykernel)",
   "language": "python",
   "name": "python3"
  },
  "language_info": {
   "codemirror_mode": {
    "name": "ipython",
    "version": 3
   },
   "file_extension": ".py",
   "mimetype": "text/x-python",
   "name": "python",
   "nbconvert_exporter": "python",
   "pygments_lexer": "ipython3",
   "version": "3.9.13"
  }
 },
 "nbformat": 4,
 "nbformat_minor": 5
}
