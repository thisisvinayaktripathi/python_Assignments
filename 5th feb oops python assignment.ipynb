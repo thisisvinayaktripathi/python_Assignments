{
 "cells": [
  {
   "attachments": {},
   "cell_type": "markdown",
   "metadata": {},
   "source": [
    "#### Q1. Explain Class and Object with respect to Object-Oriented Programming. Give a suitable example."
   ]
  },
  {
   "attachments": {},
   "cell_type": "markdown",
   "metadata": {},
   "source": [
    "In object-oriented programming, a class is a blueprint or template for creating objects, which are instances/variable of the class. A class defines a set of properties and methods that an object can have, and objects created from the class inherit the same properties and methods of that class.\n",
    "\n",
    "An object, on the other hand, is an instance of a class. It represents a specific entity in the real world, and has its own set of values for the properties defined by the class.\n",
    "\n",
    "In code, a class can be defined using the \"class\" keyword, followed by the name of the class and the properties and methods it defines.\n",
    "For example, consider a class called \"Car\""
   ]
  },
  {
   "cell_type": "code",
   "execution_count": 1,
   "metadata": {},
   "outputs": [],
   "source": [
    "class Car:\n",
    "    def __init__(self, make, model, year, color):\n",
    "        self.make = make\n",
    "        self.model = model\n",
    "        self.year = year\n",
    "        self.color = color\n",
    "\n",
    "    def start(self):\n",
    "        print(\"The car's engine has started.\")\n",
    "\n",
    "    def stop(self):\n",
    "        print(\"The car's engine has stopped.\")\n",
    "\n",
    "    def accelerate(self):\n",
    "        print(\"The car is accelerating.\")\n",
    "\n",
    "    def brake(self):\n",
    "        print(\"The car is braking.\")"
   ]
  },
  {
   "cell_type": "code",
   "execution_count": 7,
   "metadata": {},
   "outputs": [
    {
     "name": "stdout",
     "output_type": "stream",
     "text": [
      "The car's engine has started.\n"
     ]
    }
   ],
   "source": [
    "my_car = Car(\"Hyundai\", \"Santro\", 2012, \"sky-blue\")\n",
    "my_car.start()"
   ]
  },
  {
   "attachments": {},
   "cell_type": "markdown",
   "metadata": {},
   "source": [
    "In summary, a class is a blueprint or template for creating objects, while an object is an instance of a class with its own set of values for the properties defined by the class. We can create and interact with objects of a class by calling their methods and accessing their properties."
   ]
  },
  {
   "attachments": {},
   "cell_type": "markdown",
   "metadata": {},
   "source": [
    "---"
   ]
  },
  {
   "cell_type": "markdown",
   "metadata": {},
   "source": []
  },
  {
   "attachments": {},
   "cell_type": "markdown",
   "metadata": {},
   "source": [
    "#### Name the four pillars of OOPs."
   ]
  },
  {
   "attachments": {},
   "cell_type": "markdown",
   "metadata": {},
   "source": [
    "The four pillars of Object-Oriented Programming (OOP) are:\n",
    "\n",
    "1. Encapsulation: This refers to the practice of combining data and methods within a single unit (class), and restricting access to the internal data of an object from the outside world, which helps to prevent accidental modification of the data.\n",
    "\n",
    "2. Abstraction: This refers to the practice of simplifying complex systems by breaking them down into smaller, more manageable parts by creating classes that define abstract concepts or behaviors, without specifying how those behaviors are implemented.\n",
    "\n",
    "3. Inheritance: This refers to the ability of a class to inherit properties and methods from another class (known as the parent or base class). This allows for the creation of more specialized classes by extending the functionality of existing classes.\n",
    "\n",
    "4. Polymorphism: This refers to the ability of objects of different classes to be used interchangeably, as long as they share a common interface. Polymorphism allows for more flexible and modular code, as it allows for the creation of generic code that can be reused with different types of objects."
   ]
  },
  {
   "attachments": {},
   "cell_type": "markdown",
   "metadata": {},
   "source": [
    "---"
   ]
  },
  {
   "cell_type": "markdown",
   "metadata": {},
   "source": []
  },
  {
   "attachments": {},
   "cell_type": "markdown",
   "metadata": {},
   "source": [
    "#### Q3. Explain why the __init__() function is used. Give a suitable example."
   ]
  },
  {
   "attachments": {},
   "cell_type": "markdown",
   "metadata": {},
   "source": [
    "In Python, the __init__() function is a special method that is used to initialize the attributes of an object when it is created. This method is called automatically when an object is instantiated from a class, and it is used to set the initial values of the object's attributes.\n",
    "\n",
    "The __init__() method takes at least one parameter, which is usually named self and/or additional parameters, which are used to initialize the object's attributes."
   ]
  },
  {
   "cell_type": "code",
   "execution_count": 6,
   "metadata": {},
   "outputs": [
    {
     "name": "stdout",
     "output_type": "stream",
     "text": [
      "Hello, my name is Vinayak  and I'm  25  years old.\n"
     ]
    }
   ],
   "source": [
    "class Person:\n",
    "    def __init__(self, name, age):\n",
    "        self.name = name\n",
    "        self.age = age\n",
    "    \n",
    "    def greeting(self):\n",
    "        print(\"Hello, my name is\" , self.name, \" and I'm \", self.age, ' years old.')\n",
    "\n",
    "# Create an object of the Person class\n",
    "vinayak = Person(\"Vinayak\", 25)\n",
    "\n",
    "# Call the greeting method of the person1 object\n",
    "vinayak.greeting()"
   ]
  },
  {
   "attachments": {},
   "cell_type": "markdown",
   "metadata": {},
   "source": [
    "Overall, the __init__() method is an essential part of class definition in Python, as it allows us to initialize the attributes of an object when it is created, ensuring that the object is in a valid state from the start."
   ]
  },
  {
   "attachments": {},
   "cell_type": "markdown",
   "metadata": {},
   "source": [
    "---"
   ]
  },
  {
   "cell_type": "markdown",
   "metadata": {},
   "source": []
  },
  {
   "attachments": {},
   "cell_type": "markdown",
   "metadata": {},
   "source": [
    "#### Q4. Why self is used in OOPs?"
   ]
  },
  {
   "attachments": {},
   "cell_type": "markdown",
   "metadata": {},
   "source": [
    "In object-oriented programming, self is a reference to the current object being operated on. It is used to access the attributes and methods of the object within the class definition.\n",
    "\n",
    "When a method is called on an object, the self keyword is automatically passed as the first argument to the method. This allows the method to access the attributes and methods of the object it belongs to."
   ]
  },
  {
   "cell_type": "code",
   "execution_count": 11,
   "metadata": {},
   "outputs": [
    {
     "data": {
      "text/plain": [
       "'Santro'"
      ]
     },
     "execution_count": 11,
     "metadata": {},
     "output_type": "execute_result"
    }
   ],
   "source": [
    "class Car:\n",
    "    def __init__(self, make, model, year):\n",
    "        self.make = make\n",
    "        self.model = model\n",
    "        self.year = year\n",
    "        \n",
    "    def get_make(self):\n",
    "        return self.make\n",
    "    \n",
    "Santro = Car('Santro', 'LS', 2012)\n",
    "Santro.get_make()"
   ]
  },
  {
   "attachments": {},
   "cell_type": "markdown",
   "metadata": {},
   "source": [
    "---"
   ]
  },
  {
   "cell_type": "markdown",
   "metadata": {},
   "source": []
  },
  {
   "attachments": {},
   "cell_type": "markdown",
   "metadata": {},
   "source": [
    "#### Q5. What is inheritance? Give an example for each type of inheritance."
   ]
  },
  {
   "attachments": {},
   "cell_type": "markdown",
   "metadata": {},
   "source": [
    "Inheritance is when a new class (called a derived class or subclass) is created from an existing class (called a base class or superclass). The derived class inherits all the attributes and methods of the base class and can also add its own unique attributes and methods.\n",
    "\n",
    "There are four types of inheritance in Python:"
   ]
  },
  {
   "attachments": {},
   "cell_type": "markdown",
   "metadata": {},
   "source": [
    "1. Single Inheritance: When a derived class inherits the attributes and methods of a single base/super class, it is called single inheritance."
   ]
  },
  {
   "cell_type": "code",
   "execution_count": 18,
   "metadata": {},
   "outputs": [
    {
     "name": "stdout",
     "output_type": "stream",
     "text": [
      "Sheru\n",
      "The animal speaks.\n",
      "Woof!\n"
     ]
    }
   ],
   "source": [
    "class Animal:\n",
    "    def __init__(self, name):\n",
    "        self.name = name\n",
    "\n",
    "    def speak(self):\n",
    "        print(\"The animal speaks.\")\n",
    "\n",
    "class Dog(Animal):\n",
    "    def bark(self):\n",
    "        print(\"Woof!\")\n",
    "\n",
    "sheru = Dog(\"Sheru\")\n",
    "print(sheru.name)\n",
    "sheru.speak()\n",
    "sheru.bark()"
   ]
  },
  {
   "attachments": {},
   "cell_type": "markdown",
   "metadata": {},
   "source": [
    "2. Multiple Inheritance: When a derived class inherits the attributes and methods of multiple base classes, it is called multiple inheritance. For example:"
   ]
  },
  {
   "cell_type": "code",
   "execution_count": 22,
   "metadata": {},
   "outputs": [
    {
     "name": "stdout",
     "output_type": "stream",
     "text": [
      "class A\n",
      "class B\n",
      "class A bheem\n"
     ]
    }
   ],
   "source": [
    "class A:\n",
    "    def motu(self):\n",
    "        print(\"class A\")\n",
    "    def bheem(self):\n",
    "        print(\"class A bheem\")\n",
    "\n",
    "class B:\n",
    "    def patlu(self):\n",
    "        print(\"class B\")\n",
    "    def bheem(self):\n",
    "        print(\"class B bheem\")\n",
    "\n",
    "class C(A, B):\n",
    "    pass\n",
    "\n",
    "Vinayak = C()\n",
    "Vinayak.motu()\n",
    "Vinayak.patlu()\n",
    "Vinayak.bheem()"
   ]
  },
  {
   "attachments": {},
   "cell_type": "markdown",
   "metadata": {},
   "source": [
    "In Python, when a subclass inherits the same method from multiple classes, the method that is called depends on the order in which the parent classes are listed in the subclass definition. This is known as Method Resolution Order (MRO)."
   ]
  },
  {
   "attachments": {},
   "cell_type": "markdown",
   "metadata": {},
   "source": [
    "3. Multi-Level Inheritance: When a derived class inherits from a base class, which itself is derived from another class, it is called multi-level inheritance. For example:"
   ]
  },
  {
   "cell_type": "code",
   "execution_count": 23,
   "metadata": {},
   "outputs": [
    {
     "name": "stdout",
     "output_type": "stream",
     "text": [
      "class A ka bheem\n"
     ]
    }
   ],
   "source": [
    "class A:\n",
    "    def bheem(self):\n",
    "        print(\"class A ka bheem\")\n",
    "\n",
    "class B(A):\n",
    "    pass\n",
    "\n",
    "class C(B):\n",
    "    pass\n",
    "\n",
    "vinayak = C()\n",
    "vinayak.bheem()"
   ]
  },
  {
   "attachments": {},
   "cell_type": "markdown",
   "metadata": {},
   "source": [
    "4. Hierarchical Inheritance: When multiple derived classes inherit from the same base class, it is called hierarchical inheritance. For example:"
   ]
  },
  {
   "cell_type": "code",
   "execution_count": 29,
   "metadata": {},
   "outputs": [
    {
     "name": "stdout",
     "output_type": "stream",
     "text": [
      "4\n",
      "Meow!\n",
      "Woof!\n"
     ]
    }
   ],
   "source": [
    "class Animal:\n",
    "    def __init__(self):\n",
    "        self.legs = 4\n",
    "    def speak(self):\n",
    "        print(\"The animal speaks.\")\n",
    "\n",
    "class Cat(Animal):\n",
    "    def speak(self):\n",
    "        print(\"Meow!\")\n",
    "\n",
    "class Dog(Animal):\n",
    "    def speak(self):\n",
    "        print(\"Woof!\")\n",
    "\n",
    "billu,sheru = Cat(), Dog()\n",
    "\n",
    "print(billu.legs)\n",
    "billu.speak()\n",
    "sheru.speak()"
   ]
  },
  {
   "attachments": {},
   "cell_type": "markdown",
   "metadata": {},
   "source": [
    "5. Hybrid Inheritance: A combination of two or more types of inheritance mentioned above."
   ]
  },
  {
   "cell_type": "code",
   "execution_count": 30,
   "metadata": {},
   "outputs": [
    {
     "name": "stdout",
     "output_type": "stream",
     "text": [
      "Parent1's method1\n",
      "Parent2's method2\n",
      "Child1's method3\n",
      "Child2's method4\n"
     ]
    }
   ],
   "source": [
    "class Parent1:\n",
    "    def method1(self):\n",
    "        print(\"Parent1's method1\")\n",
    "\n",
    "class Parent2:\n",
    "    def method2(self):\n",
    "        print(\"Parent2's method2\")\n",
    "\n",
    "class Child1(Parent1, Parent2):\n",
    "    def method3(self):\n",
    "        print(\"Child1's method3\")\n",
    "\n",
    "class Child2(Parent1):\n",
    "    def method4(self):\n",
    "        print(\"Child2's method4\")\n",
    "\n",
    "class Grandchild(Child1, Child2):\n",
    "    pass\n",
    "\n",
    "gc = Grandchild()\n",
    "gc.method1()\n",
    "gc.method2()\n",
    "gc.method3()\n",
    "gc.method4()"
   ]
  },
  {
   "attachments": {},
   "cell_type": "markdown",
   "metadata": {},
   "source": [
    "---"
   ]
  },
  {
   "cell_type": "markdown",
   "metadata": {},
   "source": []
  },
  {
   "cell_type": "markdown",
   "metadata": {},
   "source": []
  }
 ],
 "metadata": {
  "kernelspec": {
   "display_name": "base",
   "language": "python",
   "name": "python3"
  },
  "language_info": {
   "codemirror_mode": {
    "name": "ipython",
    "version": 3
   },
   "file_extension": ".py",
   "mimetype": "text/x-python",
   "name": "python",
   "nbconvert_exporter": "python",
   "pygments_lexer": "ipython3",
   "version": "3.9.13"
  },
  "orig_nbformat": 4,
  "vscode": {
   "interpreter": {
    "hash": "ad2bdc8ecc057115af97d19610ffacc2b4e99fae6737bb82f5d7fb13d2f2c186"
   }
  }
 },
 "nbformat": 4,
 "nbformat_minor": 2
}
