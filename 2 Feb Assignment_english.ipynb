{
 "cells": [
  {
   "attachments": {},
   "cell_type": "markdown",
   "id": "c7c0d578",
   "metadata": {},
   "source": [
    "#### Q1 : What are the characteristics of the tuples? Is tuple immutable?"
   ]
  },
  {
   "attachments": {},
   "cell_type": "markdown",
   "id": "03a6317a",
   "metadata": {},
   "source": [
    "Some characteristics of Tuples are :\n",
    "1. ordered, \n",
    "2. unchangeable, and \n",
    "3. allow duplicate values. \n",
    "Tuple items are indexed, the first item has index [0] , the second item has index [1] etc.\n",
    "\n",
    "The main advantages of tuple over list are : \n",
    "1. Iteration in a tuple is faster as compared to lists since tuples in Python are immutable. This is because when key is hashable, then iteration is faster.\n",
    "2. Tuples are generally used for different Python Data Types; whereas, lists are used for similar data types\n",
    "\n",
    "Tuples are **immutable**, and this is how thay are different from a list. Since they are immutable, thus they are hashable and can be stored in dictionaries"
   ]
  },
  {
   "attachments": {},
   "cell_type": "markdown",
   "id": "edd16889",
   "metadata": {},
   "source": [
    "---"
   ]
  },
  {
   "attachments": {},
   "cell_type": "markdown",
   "id": "9dbf75c0",
   "metadata": {},
   "source": [
    "#### Q2. What are the two tuple methods in python? Give an example of each method. Give a reason why tuples have only two in-built methods as compared to Lists."
   ]
  },
  {
   "attachments": {},
   "cell_type": "markdown",
   "id": "1e7ac265",
   "metadata": {},
   "source": [
    "There are only two tuple methods count() and index() that a tuple object can call."
   ]
  },
  {
   "cell_type": "code",
   "execution_count": 5,
   "id": "eb88be5a",
   "metadata": {},
   "outputs": [
    {
     "name": "stdout",
     "output_type": "stream",
     "text": [
      "1\n"
     ]
    },
    {
     "data": {
      "text/plain": [
       "0"
      ]
     },
     "execution_count": 5,
     "metadata": {},
     "output_type": "execute_result"
    }
   ],
   "source": [
    "## Lets make a tuple \n",
    "t = (1,2,3,4)\n",
    "## count() returns the total count of elements inside tuple\n",
    "print(t.count(1))\n",
    "## index() returns index of value 1 inside tuple\n",
    "t.index(1)"
   ]
  },
  {
   "attachments": {},
   "cell_type": "markdown",
   "id": "8279c68e",
   "metadata": {},
   "source": [
    "Tuples have less methods as compared to python because, most of the methods available in lists are for mutation purpose of a list, and tuples are immutable, so those functions wont work in tuples."
   ]
  },
  {
   "attachments": {},
   "cell_type": "markdown",
   "id": "5adee42f",
   "metadata": {},
   "source": [
    "---"
   ]
  },
  {
   "attachments": {},
   "cell_type": "markdown",
   "id": "694dbc2d",
   "metadata": {},
   "source": [
    "#### Q3. Which collection datatypes in python do not allow duplicate items? Write a code using a set to remove duplicates from the given list."
   ]
  },
  {
   "attachments": {},
   "cell_type": "markdown",
   "id": "ffe2100e",
   "metadata": {},
   "source": [
    "In Python, sets (set) are collection datatypes that do not allow duplicate items.\n",
    "\n",
    "Remove duplicates from a list:"
   ]
  },
  {
   "cell_type": "code",
   "execution_count": 8,
   "id": "aa1cdc6d",
   "metadata": {},
   "outputs": [
    {
     "name": "stdout",
     "output_type": "stream",
     "text": [
      "Original list: [1, 1, 1, 2, 1, 3, 1, 4, 2, 1, 2, 2, 2, 3, 2, 4, 3, 1, 3, 2, 3, 3, 3, 4, 4, 1, 4, 2, 4, 3, 4, 4]\n",
      "New list:  [1, 2, 3, 4]\n"
     ]
    }
   ],
   "source": [
    "l = [1, 1, 1, 2, 1, 3, 1, 4, 2, 1, 2, 2, 2, 3, 2, 4, 3, 1, 3, 2, 3, 3, 3, 4, 4, 1, 4, 2, 4, 3, 4, 4]\n",
    "print(\"Original list:\", l)\n",
    "\n",
    "l1 = list(set(l))\n",
    "print(\"New list: \",l1)"
   ]
  },
  {
   "attachments": {},
   "cell_type": "markdown",
   "id": "b58384e8",
   "metadata": {},
   "source": [
    "---"
   ]
  },
  {
   "attachments": {},
   "cell_type": "markdown",
   "id": "613789b6",
   "metadata": {},
   "source": [
    "#### Q4. Explain the difference between the union() and update() methods for a set. Give an example of each method."
   ]
  },
  {
   "attachments": {},
   "cell_type": "markdown",
   "id": "087fd70f",
   "metadata": {},
   "source": [
    "The union() and update() methods are both used for combining sets in Python.\n",
    "\n",
    "union() method returns a set, which is a combination of both the sets, without modifying either set.\n",
    "update() method adds all the elements of one set to another set by modifying the set.\n",
    "Example :"
   ]
  },
  {
   "cell_type": "code",
   "execution_count": 10,
   "id": "26e769ad",
   "metadata": {},
   "outputs": [
    {
     "name": "stdout",
     "output_type": "stream",
     "text": [
      "Union of Set 1 and Set 2: {1, 2, 3, 4, 5}\n",
      "Set 1 updated: {1, 2, 3, 4, 5}\n"
     ]
    }
   ],
   "source": [
    "set1 = {1, 2, 3}\n",
    "set2 = {3, 4, 5}\n",
    "\n",
    "# Example usage of union() method\n",
    "union_set = set1.union(set2)\n",
    "print(\"Union of Set 1 and Set 2:\", union_set)\n",
    "\n",
    "# Example usage of update() method\n",
    "set1.update(set2)\n",
    "print(\"Set 1 updated:\", set1)"
   ]
  },
  {
   "attachments": {},
   "cell_type": "markdown",
   "id": "cb9ecf4e",
   "metadata": {},
   "source": [
    "---"
   ]
  },
  {
   "attachments": {},
   "cell_type": "markdown",
   "id": "ed3f243a",
   "metadata": {},
   "source": [
    "#### Q5. What is a dictionary? Give an example. Also, state whether a dictionary is ordered or unordered."
   ]
  },
  {
   "attachments": {},
   "cell_type": "markdown",
   "id": "3c0f7b92",
   "metadata": {},
   "source": [
    "A dictionary is a collection data type that stores key-value pairs. Each key in a dictionary maps to a value, and we can look up values by their keys. Dictionaries are unordered, meaning that the items have no index or order."
   ]
  },
  {
   "cell_type": "code",
   "execution_count": 11,
   "id": "600f5bf0",
   "metadata": {},
   "outputs": [
    {
     "name": "stdout",
     "output_type": "stream",
     "text": [
      "kamlesh's phone number:  11223344\n",
      "dictionary:  {'kamlesh': '11223344', 'binod': 'aabbccdd', 'savita': '69226922'}\n",
      "dictionary:  {'kamlesh': 'VIP_number', 'binod': 'aabbccdd', 'savita': '69226922'}\n",
      "dictionary:  {'kamlesh': 'VIP_number', 'savita': '69226922'}\n"
     ]
    }
   ],
   "source": [
    "# Example of a dictionary\n",
    "d = {\"kamlesh\": \"11223344\", \"kamlesh\": \"11223344\", \"binod\": \"aabbccdd\"}\n",
    "\n",
    "# Accessing a value using its key\n",
    "print(\"kamlesh's phone number: \", d[\"kamlesh\"])\n",
    "\n",
    "# Adding a new key-value pair to the dictionary\n",
    "d[\"savita\"] = \"69226922\"\n",
    "print(\"dictionary: \", d)\n",
    "\n",
    "# Updating a value using its key\n",
    "d[\"kamlesh\"] = \"VIP_number\"\n",
    "print(\"dictionary: \", d)\n",
    "\n",
    "# Removing a key-value pair using its key\n",
    "del d[\"binod\"]\n",
    "print(\"dictionary: \", d)"
   ]
  },
  {
   "attachments": {},
   "cell_type": "markdown",
   "id": "bcab65a6",
   "metadata": {},
   "source": [
    "---"
   ]
  },
  {
   "attachments": {},
   "cell_type": "markdown",
   "id": "0b1cb240",
   "metadata": {},
   "source": [
    "#### Q6. Can we create a nested dictionary? If so, please give an example by creating a simple one-level nested dictionary."
   ]
  },
  {
   "attachments": {},
   "cell_type": "markdown",
   "id": "35a7a81c",
   "metadata": {},
   "source": [
    "Yes, you can create a nested dictionary in Python. A nested dictionary is a dictionary that contains one or more dictionaries as its values."
   ]
  },
  {
   "cell_type": "code",
   "execution_count": 12,
   "id": "90316234",
   "metadata": {},
   "outputs": [
    {
     "name": "stdout",
     "output_type": "stream",
     "text": [
      "Binod's age: 32\n",
      "Savita's position: model\n"
     ]
    }
   ],
   "source": [
    "# Example of a simple one-level nested dictionary\n",
    "employees = {\n",
    "    \"savita\": {\n",
    "        \"age\": 35,\n",
    "        \"position\": \"model\"\n",
    "    },\n",
    "    \"binod\": {\n",
    "        \"age\": 32,\n",
    "        \"position\": \"CEO\"\n",
    "    },\n",
    "    \"kamlesh\": {\n",
    "        \"age\": 40,\n",
    "        \"position\": \"consultant\"\n",
    "    }\n",
    "}\n",
    "\n",
    "# Accessing values in the nested dictionary\n",
    "print(\"Binod's age:\", employees[\"binod\"][\"age\"])\n",
    "print(\"Savita's position:\", employees[\"savita\"][\"position\"])"
   ]
  },
  {
   "attachments": {},
   "cell_type": "markdown",
   "id": "22ade23c",
   "metadata": {},
   "source": [
    "---"
   ]
  },
  {
   "attachments": {},
   "cell_type": "markdown",
   "id": "1c9250bf",
   "metadata": {},
   "source": [
    "#### Q7. Using setdefault() method, create key named topics in the given dictionary and also add the value of the key as this list ['Python’, 'Machine Learning’, 'Deep Learning’]"
   ]
  },
  {
   "attachments": {},
   "cell_type": "markdown",
   "id": "4e0a0ebb",
   "metadata": {},
   "source": [
    "The setdefault() method is used to set a default value for a key in a dictionary, if the key does not exist in the dictioary. If the key is not present in the dictionary, it inserts the key with the default value into the dictionary."
   ]
  },
  {
   "cell_type": "code",
   "execution_count": 13,
   "id": "5a908d33",
   "metadata": {},
   "outputs": [
    {
     "name": "stdout",
     "output_type": "stream",
     "text": [
      "Google CEO details: {'name': 'Sundar Pichai', 'age': 51, 'topics': ['Python', 'Machine Learning', 'Deep Learning']}\n"
     ]
    }
   ],
   "source": [
    "# Example of using the setdefault() method\n",
    "person = { \"name\": \"Sundar Pichai\", \"age\": 51 }\n",
    "\n",
    "# Using setdefault() method to set a default value for a key\n",
    "person.setdefault(\"topics\", [\"Python\", \"Machine Learning\", \"Deep Learning\"])\n",
    "print(\"Google CEO details:\", person)"
   ]
  },
  {
   "attachments": {},
   "cell_type": "markdown",
   "id": "2a56fb46",
   "metadata": {},
   "source": [
    "---"
   ]
  },
  {
   "attachments": {},
   "cell_type": "markdown",
   "id": "97b721c5",
   "metadata": {},
   "source": [
    "#### Q8. What are the three view objects in dictionaries? Use the three in-built methods in python to display these three view objects for the given dictionary.\n",
    "dictl = {'Sport\": ‘Cricket', \"Teams’: ['India’, 'Australia’, 'England’, 'South Africa’, 'Sri Lanka’, 'New Zealand']}"
   ]
  },
  {
   "attachments": {},
   "cell_type": "markdown",
   "id": "341b808f",
   "metadata": {},
   "source": [
    "The three view objects in dictionaries are:\n",
    "\n",
    "keys(): Returns a view object that displays a list of all the keys in the dictionary.\n",
    "values(): Returns a view object that displays a list of all the values in the dictionary.\n",
    "items(): Returns a view object that displays a list of all the key-value pairs in the dictionary.\n",
    "\n",
    "Example :"
   ]
  },
  {
   "cell_type": "code",
   "execution_count": 15,
   "id": "9ce57b4c",
   "metadata": {},
   "outputs": [
    {
     "name": "stdout",
     "output_type": "stream",
     "text": [
      "Keys:  dict_keys(['Sport', 'Teams'])\n",
      "Values:  dict_values(['Cricket', ['India', 'Australia', 'England', 'South Africa', 'Sri Lanka', 'New Zealand']])\n",
      "Items:  dict_items([('Sport', 'Cricket'), ('Teams', ['India', 'Australia', 'England', 'South Africa', 'Sri Lanka', 'New Zealand'])])\n"
     ]
    }
   ],
   "source": [
    "# Example of the three view objects in dictionaries\n",
    "dictl = {'Sport': 'Cricket', \"Teams\": ['India', 'Australia', 'England', 'South Africa', 'Sri Lanka', 'New Zealand']}\n",
    "\n",
    "# Displaying the keys view object\n",
    "print(\"Keys: \", dictl.keys())\n",
    "\n",
    "# Displaying the values view object\n",
    "print(\"Values: \", dictl.values())\n",
    "\n",
    "# Displaying the items view object\n",
    "print(\"Items: \", dictl.items())"
   ]
  },
  {
   "attachments": {},
   "cell_type": "markdown",
   "id": "92fcabeb",
   "metadata": {},
   "source": []
  }
 ],
 "metadata": {
  "kernelspec": {
   "display_name": "base",
   "language": "python",
   "name": "python3"
  },
  "language_info": {
   "codemirror_mode": {
    "name": "ipython",
    "version": 3
   },
   "file_extension": ".py",
   "mimetype": "text/x-python",
   "name": "python",
   "nbconvert_exporter": "python",
   "pygments_lexer": "ipython3",
   "version": "3.9.13"
  },
  "vscode": {
   "interpreter": {
    "hash": "ad2bdc8ecc057115af97d19610ffacc2b4e99fae6737bb82f5d7fb13d2f2c186"
   }
  }
 },
 "nbformat": 4,
 "nbformat_minor": 5
}
