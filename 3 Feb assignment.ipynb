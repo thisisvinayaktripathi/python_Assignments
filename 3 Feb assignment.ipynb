{
 "cells": [
  {
   "attachments": {},
   "cell_type": "markdown",
   "metadata": {},
   "source": [
    "#### Ql. Which keyword is used to create a function? Create a function to return a list of odd numbers in the range of 1 to 25."
   ]
  },
  {
   "attachments": {},
   "cell_type": "markdown",
   "metadata": {},
   "source": [
    "The 'def' keyword is used to define(or create) a function.\n",
    "Odd numbers in 1 to 25 :"
   ]
  },
  {
   "cell_type": "code",
   "execution_count": 3,
   "metadata": {},
   "outputs": [
    {
     "name": "stdout",
     "output_type": "stream",
     "text": [
      "[1, 3, 5, 7, 9, 11, 13, 15, 17, 19, 21, 23, 25]\n"
     ]
    }
   ],
   "source": [
    "def odd():\n",
    "    l = []\n",
    "    for i in range(1,26,2):\n",
    "        l.append(i)\n",
    "    return l\n",
    "print(odd())"
   ]
  },
  {
   "attachments": {},
   "cell_type": "markdown",
   "metadata": {},
   "source": [
    "---"
   ]
  },
  {
   "cell_type": "markdown",
   "metadata": {},
   "source": []
  },
  {
   "attachments": {},
   "cell_type": "markdown",
   "metadata": {},
   "source": [
    "#### Q2. Why *args and **kwargs is used in some functions? Create a function each for *args and **kwargs to demonstrate their use."
   ]
  },
  {
   "attachments": {},
   "cell_type": "markdown",
   "metadata": {},
   "source": [
    "*args and **kwargs are used in functions to pass a variable number of arguments as opposed to using just a fixed number of variables.\n",
    "\n",
    "So in functions defined with *, we can input as many variables as we want and of any type that we want. The data will be captured and stored as a 'Tuple'\n",
    "\n",
    "In functions defined with **, we can input as many key-value pairs as we want like : a=1, b=2, c=3 etc.. The key-value pairs are stored in a dictionary\n",
    "Example :"
   ]
  },
  {
   "cell_type": "code",
   "execution_count": 4,
   "metadata": {},
   "outputs": [
    {
     "name": "stdout",
     "output_type": "stream",
     "text": [
      "24\n",
      "20\n"
     ]
    }
   ],
   "source": [
    "# *args wala function\n",
    "def multiply(*args):\n",
    "    result = 1\n",
    "    for i in args:\n",
    "        result *= i\n",
    "    return result\n",
    "\n",
    "print(multiply(2, 3, 4))\n",
    "print(multiply(4, 5))"
   ]
  },
  {
   "cell_type": "code",
   "execution_count": 10,
   "metadata": {},
   "outputs": [
    {
     "name": "stdout",
     "output_type": "stream",
     "text": [
      "[('a', 'kamlesh'), ('b', 'savita'), ('c', 'chupdi'), ('d', 'chachi')]\n"
     ]
    }
   ],
   "source": [
    "# *kwargs wala function\n",
    "def fun(**kwargs):\n",
    "    l = []\n",
    "    for i in kwargs.items():\n",
    "        l.append(i)\n",
    "    return l\n",
    "\n",
    "print(fun(a=\"kamlesh\", b=\"savita\",c='chupdi', d='chachi'))"
   ]
  },
  {
   "cell_type": "markdown",
   "metadata": {},
   "source": [
    "---"
   ]
  },
  {
   "cell_type": "markdown",
   "metadata": {},
   "source": []
  },
  {
   "attachments": {},
   "cell_type": "markdown",
   "metadata": {},
   "source": [
    "#### Q3. What is an iterator in python? Name the method used to initialise the iterator object and the method used for iteration. Use these methods to print the first five elements of the given list [2,4,86,8,10,12,14,16,18,20]."
   ]
  },
  {
   "attachments": {},
   "cell_type": "markdown",
   "metadata": {},
   "source": [
    "An iterator in Python is an object that can be iterated (looped) upon one by one. We can convert normal lists into iterators by using the iter() function on a list. The next() function is used to iterate through the elements of the list. Example :"
   ]
  },
  {
   "cell_type": "code",
   "execution_count": 13,
   "metadata": {},
   "outputs": [
    {
     "name": "stdout",
     "output_type": "stream",
     "text": [
      "2\n",
      "4\n",
      "86\n",
      "8\n",
      "10\n"
     ]
    }
   ],
   "source": [
    "l = [2,4,86,8,10,12,14,16,18,20]\n",
    "\n",
    "# Create the iterator object using iter() and store it in k\n",
    "k = iter(l)\n",
    "\n",
    "# Use the next() method to iterate through the elements\n",
    "for i in range(5):\n",
    "    print(next(k))\n",
    "\n",
    "\n"
   ]
  },
  {
   "attachments": {},
   "cell_type": "markdown",
   "metadata": {},
   "source": [
    "------"
   ]
  },
  {
   "cell_type": "markdown",
   "metadata": {},
   "source": []
  },
  {
   "attachments": {},
   "cell_type": "markdown",
   "metadata": {},
   "source": [
    "#### Q4. What is a generator function in python? Why yield keyword is used? Give an example of a generator function."
   ]
  },
  {
   "attachments": {},
   "cell_type": "markdown",
   "metadata": {},
   "source": [
    "A generator function in Python is a function that allows us to return a sequence of values, one at a time, using the \"yield\" statement. The \"yield\" statement is used to produce a value and pause the function's execution, saving the current state of the function. When the function is called again, it resumes from where it left off and continues until it reaches the end of the function or encounters another \"yield\" statement.\n",
    "\n",
    "Here's an example of a generator function:"
   ]
  },
  {
   "cell_type": "code",
   "execution_count": 20,
   "metadata": {},
   "outputs": [
    {
     "name": "stdout",
     "output_type": "stream",
     "text": [
      "0\n",
      "1\n",
      "4\n",
      "9\n",
      "16\n"
     ]
    }
   ],
   "source": [
    "def square_numbers(n):\n",
    "    for i in range(n):\n",
    "        yield i * i\n",
    "\n",
    "for square in square_numbers(5):\n",
    "    print(square)"
   ]
  },
  {
   "attachments": {},
   "cell_type": "markdown",
   "metadata": {},
   "source": [
    "---"
   ]
  },
  {
   "attachments": {},
   "cell_type": "markdown",
   "metadata": {},
   "source": []
  },
  {
   "attachments": {},
   "cell_type": "markdown",
   "metadata": {},
   "source": [
    "#### Q5. Create a generator function for prime numbers less than 1000. Use the next() method to print the first 20 prime numbers."
   ]
  },
  {
   "cell_type": "code",
   "execution_count": 29,
   "metadata": {},
   "outputs": [
    {
     "name": "stdout",
     "output_type": "stream",
     "text": [
      "2\n",
      "3\n",
      "5\n",
      "7\n",
      "11\n",
      "13\n",
      "17\n",
      "19\n",
      "23\n",
      "29\n",
      "31\n",
      "37\n",
      "41\n",
      "43\n",
      "47\n",
      "53\n",
      "59\n",
      "61\n",
      "67\n",
      "71\n"
     ]
    }
   ],
   "source": [
    "def pr():\n",
    "    for num in range(2, 1000):\n",
    "        for i in range(2, num):\n",
    "            if num % i == 0:\n",
    "                break\n",
    "        else:\n",
    "            yield num\n",
    "\n",
    "gen = pr()\n",
    "for j in range(20):\n",
    "    print(next(gen))"
   ]
  },
  {
   "cell_type": "code",
   "execution_count": null,
   "metadata": {},
   "outputs": [],
   "source": []
  }
 ],
 "metadata": {
  "kernelspec": {
   "display_name": "base",
   "language": "python",
   "name": "python3"
  },
  "language_info": {
   "codemirror_mode": {
    "name": "ipython",
    "version": 3
   },
   "file_extension": ".py",
   "mimetype": "text/x-python",
   "name": "python",
   "nbconvert_exporter": "python",
   "pygments_lexer": "ipython3",
   "version": "3.9.13"
  },
  "orig_nbformat": 4,
  "vscode": {
   "interpreter": {
    "hash": "ad2bdc8ecc057115af97d19610ffacc2b4e99fae6737bb82f5d7fb13d2f2c186"
   }
  }
 },
 "nbformat": 4,
 "nbformat_minor": 2
}
